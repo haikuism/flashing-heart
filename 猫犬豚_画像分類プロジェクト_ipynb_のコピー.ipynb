{
  "nbformat": 4,
  "nbformat_minor": 0,
  "metadata": {
    "colab": {
      "provenance": [],
      "authorship_tag": "ABX9TyOuxKTfizlEdYxSQo1x6jQf",
      "include_colab_link": true
    },
    "kernelspec": {
      "name": "python3",
      "display_name": "Python 3"
    },
    "language_info": {
      "name": "python"
    }
  },
  "cells": [
    {
      "cell_type": "markdown",
      "metadata": {
        "id": "view-in-github",
        "colab_type": "text"
      },
      "source": [
        "<a href=\"https://colab.research.google.com/github/haikuism/flashing-heart/blob/master/%E7%8C%AB%E7%8A%AC%E8%B1%9A_%E7%94%BB%E5%83%8F%E5%88%86%E9%A1%9E%E3%83%97%E3%83%AD%E3%82%B8%E3%82%A7%E3%82%AF%E3%83%88_ipynb_%E3%81%AE%E3%82%B3%E3%83%94%E3%83%BC.ipynb\" target=\"_parent\"><img src=\"https://colab.research.google.com/assets/colab-badge.svg\" alt=\"Open In Colab\"/></a>"
      ]
    },
    {
      "cell_type": "code",
      "execution_count": null,
      "metadata": {
        "id": "FwZdWaCIB26r"
      },
      "outputs": [],
      "source": []
    },
    {
      "cell_type": "markdown",
      "metadata": {
        "id": "e8bfe6a9"
      },
      "source": [
        "# Task\n",
        "インターネットから猫、犬、豚の画像をそれぞれ11枚ずつ収集し、各クラス10枚を学習用、1枚をテスト用としてディープラーニングモデルを構築・学習・評価し、テスト結果を正誤で表示する。"
      ]
    },
    {
      "cell_type": "markdown",
      "metadata": {
        "id": "1416618b"
      },
      "source": [
        "## 画像の収集\n",
        "\n",
        "### Subtask:\n",
        "猫、犬、豚の画像をそれぞれ11枚ずつインターネットから収集します。\n"
      ]
    },
    {
      "cell_type": "markdown",
      "metadata": {
        "id": "6afe4a5d"
      },
      "source": [
        "## データセットの準備\n",
        "\n",
        "### Subtask:\n",
        "収集した画像を学習用（各クラス10枚）とテスト用（各クラス1枚）に分割します。\n"
      ]
    },
    {
      "cell_type": "markdown",
      "metadata": {
        "id": "7ae07bba"
      },
      "source": [
        "**Reasoning**:\n",
        "I need to organize the collected images into training and testing sets. I will first define the paths to the image directories and then iterate through each class to move one random image to the test directory while keeping the rest in the training directory. Finally, I will verify the directory structure.\n",
        "\n"
      ]
    },
    {
      "cell_type": "code",
      "metadata": {
        "id": "b8193c8c"
      },
      "source": [
        "import os\n",
        "import random\n",
        "import shutil\n",
        "\n",
        "# Define the base directory where the images are stored (assuming images are in 'images' folder)\n",
        "base_dir = 'images'\n",
        "classes = ['cat', 'dog', 'pig']\n",
        "train_dir = 'train'\n",
        "test_dir = 'test'\n",
        "\n",
        "# Create train and test directories with class subdirectories\n",
        "for dir_path in [train_dir, test_dir]:\n",
        "    if not os.path.exists(dir_path):\n",
        "        os.makedirs(dir_path)\n",
        "    for class_name in classes:\n",
        "        class_dir = os.path.join(dir_path, class_name)\n",
        "        if not os.path.exists(class_dir):\n",
        "            os.makedirs(class_dir)\n",
        "\n",
        "# Move 1 image from each class to the test directory\n",
        "for class_name in classes:\n",
        "    source_dir = os.path.join(base_dir, class_name)\n",
        "    image_files = [f for f in os.listdir(source_dir) if os.path.isfile(os.path.join(source_dir, f))]\n",
        "    if len(image_files) != 11:\n",
        "        print(f\"Warning: Expected 11 images in {source_dir}, but found {len(image_files)}\")\n",
        "        # This is a warning, we will still attempt to split if there are enough images\n",
        "        if len(image_files) < 1:\n",
        "             print(f\"Error: No images found in {source_dir}. Skipping this class.\")\n",
        "             continue\n",
        "\n",
        "    # Select one random image for testing\n",
        "    test_image = random.choice(image_files)\n",
        "    image_files.remove(test_image) # Remove the test image from the list\n",
        "\n",
        "    # Move the test image\n",
        "    src_path = os.path.join(source_dir, test_image)\n",
        "    dest_path = os.path.join(test_dir, class_name, test_image)\n",
        "    shutil.move(src_path, dest_path)\n",
        "\n",
        "    # Move the remaining 10 images to the training directory\n",
        "    for train_image in image_files:\n",
        "        src_path = os.path.join(source_dir, train_image)\n",
        "        dest_path = os.path.join(train_dir, class_name, train_image)\n",
        "        shutil.move(src_path, dest_path)\n",
        "\n",
        "# Verify the directory structure and counts\n",
        "print(\"\\nVerification:\")\n",
        "for dir_path in [train_dir, test_dir]:\n",
        "    print(f\"\\nContents of {dir_path}:\")\n",
        "    for class_name in classes:\n",
        "        class_dir = os.path.join(dir_path, class_name)\n",
        "        if os.path.exists(class_dir):\n",
        "            file_count = len([f for f in os.listdir(class_dir) if os.path.isfile(os.path.join(class_dir, f))])\n",
        "            print(f\"  {class_name}: {file_count} images\")\n",
        "        else:\n",
        "            print(f\"  {class_name}: Directory not found\")\n"
      ],
      "execution_count": null,
      "outputs": []
    },
    {
      "cell_type": "markdown",
      "metadata": {
        "id": "55d763e3"
      },
      "source": [
        "## モデルの構築\n",
        "\n",
        "### Subtask:\n",
        "ディープラーニングモデルを構築します。シンプルなCNNモデルを検討します。\n"
      ]
    },
    {
      "cell_type": "markdown",
      "metadata": {
        "id": "671d29e8"
      },
      "source": [
        "**Reasoning**:\n",
        "Import necessary modules, define the input shape, create a Sequential model, add layers, compile the model, and print the summary as instructed.\n",
        "\n"
      ]
    },
    {
      "cell_type": "markdown",
      "metadata": {
        "id": "2d3f5a87"
      },
      "source": [
        "### Subtask:\n",
        "インターネットから猫の画像を収集します。以下のコードは、指定したURLリストから画像をダウンロードします。ダウンロードしたい画像のURLリストを準備してください。"
      ]
    },
    {
      "cell_type": "code",
      "metadata": {
        "colab": {
          "base_uri": "https://localhost:8080/"
        },
        "id": "2c264dbc",
        "outputId": "8799daad-8bab-4479-c7a0-603c6374d4a3"
      },
      "source": [
        "import os\n",
        "\n",
        "# 画像を保存するディレクトリを作成\n",
        "image_dir = 'images/cat'\n",
        "if not os.path.exists(image_dir):\n",
        "    os.makedirs(image_dir)\n",
        "\n",
        "# ダウンロードしたい猫の画像のURLリスト\n",
        "# 例: 以下のリストを実際にダウンロードしたい画像のURLに置き換えてください。\n",
        "image_urls = [\n",
        "     'https://www.npf.co.jp/cms/npfmagazine/uploads/2023/10/3727647_s.jpg',\n",
        "'https://www.npf.co.jp/cms/npfmagazine/uploads/2023/10/23978637_s.jpg',\n",
        "'https://www.mfr.co.jp/content/dam/mfrcojp/sumai/chishiki_018/img/s302-key.jpg',\n",
        "'https://cdn.shopify.com/s/files/1/0551/9897/4030/files/cat010_1-780x1024.jpg',\n",
        "'https://encrypted-tbn0.gstatic.com/images?q=tbn:ANd9GcQgtBlzd4XzU3c20yhOMgy2fj0_OluHFjdRcw&s',\n",
        "'https://page.mkgr.jp/ownedmedia/wordpress/wp-content/uploads/2023/11/image1-1.jpg',\n",
        "'https://page.mkgr.jp/ownedmedia/wordpress/wp-content/uploads/2023/11/image4-2-768x511.jpg',\n",
        "'https://www.npf.co.jp/cms/npfmagazine/uploads/2023/10/27750021_m.jpg',\n",
        "'https://www.npf.co.jp/cms/npfmagazine/uploads/2023/10/196844355_s.jpg',\n",
        "'https://www.npf.co.jp/cms/npfmagazine/uploads/2023/10/4443649_s.jpg',\n",
        "     'https://www.npf.co.jp/cms/npfmagazine/uploads/2023/10/22364658_s.jpg'\n",
        "    # ... 10枚分のURLを追加\n",
        "]\n",
        "\n",
        "# URLから画像をダウンロード\n",
        "for i, url in enumerate(image_urls):\n",
        "    # ダウンロードするファイルのパスを生成\n",
        "    filename = os.path.join(image_dir, f'cat_{i+1}.jpg')\n",
        "    # wget コマンドを使用してファイルをダウンロード\n",
        "    # -q は静かに（Quiet）ダウンロードするためのオプションです\n",
        "    os.system(f'wget -O {filename} {url} -q')\n",
        "\n",
        "print(f\"{len(image_urls)} images downloaded to {image_dir}\")"
      ],
      "execution_count": null,
      "outputs": [
        {
          "output_type": "stream",
          "name": "stdout",
          "text": [
            "11 images downloaded to images/cat\n"
          ]
        }
      ]
    },
    {
      "cell_type": "markdown",
      "metadata": {
        "id": "708f2692"
      },
      "source": [
        "### Subtask:\n",
        "ダウンロードした猫の画像ファイルを確認します。"
      ]
    },
    {
      "cell_type": "code",
      "metadata": {
        "colab": {
          "base_uri": "https://localhost:8080/"
        },
        "id": "5f0bda8b",
        "outputId": "1f06bcc0-43df-4699-ddf8-cf6cb304b70c"
      },
      "source": [
        "import os\n",
        "\n",
        "# 画像を保存したディレクトリのパス\n",
        "image_dir = 'images/cat'\n",
        "\n",
        "# ディレクトリ内のファイル一覧を取得\n",
        "if os.path.exists(image_dir):\n",
        "    image_files = os.listdir(image_dir)\n",
        "    print(f\"Directory: {image_dir}\")\n",
        "    print(f\"Number of files: {len(image_files)}\")\n",
        "    print(\"Files:\")\n",
        "    for file in image_files:\n",
        "        print(f\"- {file}\")\n",
        "else:\n",
        "    print(f\"Directory not found: {image_dir}\")"
      ],
      "execution_count": null,
      "outputs": [
        {
          "output_type": "stream",
          "name": "stdout",
          "text": [
            "Directory: images/cat\n",
            "Number of files: 11\n",
            "Files:\n",
            "- cat_4.jpg\n",
            "- cat_5.jpg\n",
            "- cat_11.jpg\n",
            "- cat_1.jpg\n",
            "- cat_8.jpg\n",
            "- cat_7.jpg\n",
            "- cat_10.jpg\n",
            "- cat_2.jpg\n",
            "- cat_3.jpg\n",
            "- cat_6.jpg\n",
            "- cat_9.jpg\n"
          ]
        }
      ]
    },
    {
      "cell_type": "markdown",
      "metadata": {
        "id": "4e8473e5"
      },
      "source": [
        "### Subtask:\n",
        "ダウンロードした猫の画像をいくつか表示して確認します。"
      ]
    },
    {
      "cell_type": "code",
      "metadata": {
        "colab": {
          "base_uri": "https://localhost:8080/",
          "height": 110
        },
        "id": "d0f0faa6",
        "outputId": "5ce9f47a-9cd5-434b-dc63-5749416277e0"
      },
      "source": [
        "import os\n",
        "from IPython.display import display, Image\n",
        "\n",
        "# 画像を保存したディレクトリのパス\n",
        "image_dir = 'images/cat'\n",
        "\n",
        "# ディレクトリ内のファイル一覧を取得\n",
        "if os.path.exists(image_dir):\n",
        "    image_files = [f for f in os.listdir(image_dir) if os.path.isfile(os.path.join(image_dir, f))]\n",
        "    print(f\"Displaying a few images from {image_dir}:\")\n",
        "\n",
        "    # 最初の数枚の画像を表示 (例えば5枚)\n",
        "   # num_images_to_display = min(11, len(image_files)) # ファイル数に応じて調整\n",
        "\n",
        "\n",
        "        image_path = os.path.join(image_dir, image_files[1])\n",
        "        print(f\"Displaying: {image_files[1]}\")\n",
        "        display(Image(filename=image_path))\n"
      ],
      "execution_count": null,
      "outputs": [
        {
          "output_type": "error",
          "ename": "IndentationError",
          "evalue": "unexpected indent (ipython-input-3918614151.py, line 16)",
          "traceback": [
            "\u001b[0;36m  File \u001b[0;32m\"/tmp/ipython-input-3918614151.py\"\u001b[0;36m, line \u001b[0;32m16\u001b[0m\n\u001b[0;31m    image_path = os.path.join(image_dir, image_files[1])\u001b[0m\n\u001b[0m    ^\u001b[0m\n\u001b[0;31mIndentationError\u001b[0m\u001b[0;31m:\u001b[0m unexpected indent\n"
          ]
        }
      ]
    },
    {
      "cell_type": "code",
      "metadata": {
        "colab": {
          "base_uri": "https://localhost:8080/",
          "height": 110
        },
        "id": "ed155216",
        "outputId": "b699c8fe-cb42-40ca-955b-b1182027b84c"
      },
      "source": [
        "import os\n",
        "\n",
        "image_dir = 'images/cat'\n",
        "full_path = os.path.abspath(image_dir)\n",
        "print(f\"The full path to '{image_dir}' is: {full_path}\")"
      ],
      "execution_count": null,
      "outputs": [
        {
          "output_type": "error",
          "ename": "IndentationError",
          "evalue": "unexpected indent (ipython-input-3645865094.py, line 5)",
          "traceback": [
            "\u001b[0;36m  File \u001b[0;32m\"/tmp/ipython-input-3645865094.py\"\u001b[0;36m, line \u001b[0;32m5\u001b[0m\n\u001b[0;31m    image_path = os.path.join(image_dir, image_files[i])\u001b[0m\n\u001b[0m    ^\u001b[0m\n\u001b[0;31mIndentationError\u001b[0m\u001b[0;31m:\u001b[0m unexpected indent\n"
          ]
        }
      ]
    }
  ]
}